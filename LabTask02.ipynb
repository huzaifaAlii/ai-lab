{
  "nbformat": 4,
  "nbformat_minor": 0,
  "metadata": {
    "colab": {
      "provenance": [],
      "authorship_tag": "ABX9TyOXST+Jtyvfi+jiRNgMSowq",
      "include_colab_link": true
    },
    "kernelspec": {
      "name": "python3",
      "display_name": "Python 3"
    },
    "language_info": {
      "name": "python"
    }
  },
  "cells": [
    {
      "cell_type": "markdown",
      "metadata": {
        "id": "view-in-github",
        "colab_type": "text"
      },
      "source": [
        "<a href=\"https://colab.research.google.com/github/huzaifaAlii/ai-lab/blob/main/LabTask02.ipynb\" target=\"_parent\"><img src=\"https://colab.research.google.com/assets/colab-badge.svg\" alt=\"Open In Colab\"/></a>"
      ]
    },
    {
      "cell_type": "markdown",
      "source": [
        "# Lab Task 2"
      ],
      "metadata": {
        "id": "2UqqnNNNaDWi"
      }
    },
    {
      "cell_type": "markdown",
      "source": [
        "Date: 1 Oct 2024"
      ],
      "metadata": {
        "id": "xYcGyhuGaGLu"
      }
    },
    {
      "cell_type": "code",
      "source": [],
      "metadata": {
        "id": "z_hxHg9TsAwy"
      },
      "execution_count": null,
      "outputs": []
    },
    {
      "cell_type": "markdown",
      "source": [
        "# Task 1: NumPy Array Creation\n"
      ],
      "metadata": {
        "id": "TmQ6ZaQKaPWO"
      }
    },
    {
      "cell_type": "markdown",
      "source": [
        "**1.1.1 Create a 1D array of numbers from 0 to 9.**"
      ],
      "metadata": {
        "id": "vDV2lH9FadLV"
      }
    },
    {
      "cell_type": "code",
      "source": [
        "import numpy as np\n",
        "arr1 = np.arange(10)\n",
        "print(arr1)\n"
      ],
      "metadata": {
        "colab": {
          "base_uri": "https://localhost:8080/"
        },
        "id": "xpGJzx5CamxU",
        "outputId": "3dfc5926-66fa-40b9-f112-f68f2df1695b"
      },
      "execution_count": null,
      "outputs": [
        {
          "output_type": "stream",
          "name": "stdout",
          "text": [
            "[0 1 2 3 4 5 6 7 8 9]\n"
          ]
        }
      ]
    },
    {
      "cell_type": "markdown",
      "source": [
        "*1.2.1 Create a 2D array with shape (3, 3), where values range from 1 to 9.*\n"
      ],
      "metadata": {
        "id": "eHpjRK4AcjlM"
      }
    },
    {
      "cell_type": "code",
      "source": [
        "arr2 = np.arange(1, 10).reshape(3, 3)\n",
        "print(arr2)\n"
      ],
      "metadata": {
        "colab": {
          "base_uri": "https://localhost:8080/"
        },
        "id": "iKp0qzNVcroB",
        "outputId": "ca6fe127-b073-4cd6-ea6b-767a9ae23420"
      },
      "execution_count": null,
      "outputs": [
        {
          "output_type": "stream",
          "name": "stdout",
          "text": [
            "[[1 2 3]\n",
            " [4 5 6]\n",
            " [7 8 9]]\n"
          ]
        }
      ]
    },
    {
      "cell_type": "markdown",
      "source": [
        "\n",
        "\n",
        "```\n",
        "# This is formatted as code\n",
        "```\n",
        "\n",
        "1.3.1 Create a 3D array of shape (2, 3, 4) filled with random integers from 1 to 100.\n"
      ],
      "metadata": {
        "id": "oJ4AniVGdDwT"
      }
    },
    {
      "cell_type": "code",
      "source": [
        "arr3 = np.random.randint(1, 101, size=(2, 3, 4))\n",
        "print(arr3)\n"
      ],
      "metadata": {
        "colab": {
          "base_uri": "https://localhost:8080/"
        },
        "id": "GWRblAVpdKVB",
        "outputId": "609ec113-427b-49b4-8bba-5a9475218b83"
      },
      "execution_count": null,
      "outputs": [
        {
          "output_type": "stream",
          "name": "stdout",
          "text": [
            "[[[52 48 49 86]\n",
            "  [26 32 86 32]\n",
            "  [46  3 35 85]]\n",
            "\n",
            " [[26 69 74 23]\n",
            "  [ 5 11 57 66]\n",
            "  [ 4 76 66 45]]]\n"
          ]
        }
      ]
    },
    {
      "cell_type": "markdown",
      "source": [],
      "metadata": {
        "id": "kGmroULTd6Mq"
      }
    },
    {
      "cell_type": "markdown",
      "source": [
        "# *Task* 2: Array Indexing and Slicing\n"
      ],
      "metadata": {
        "id": "Y31XMlACd8af"
      }
    },
    {
      "cell_type": "markdown",
      "source": [
        "1.1.1 Given the array arr2 from Task 1, extract the second row.\n"
      ],
      "metadata": {
        "id": "Fg85Ce-Td-7Q"
      }
    },
    {
      "cell_type": "code",
      "source": [
        "second_row = arr2[1, :]\n",
        "print(second_row)\n"
      ],
      "metadata": {
        "colab": {
          "base_uri": "https://localhost:8080/"
        },
        "id": "iB5nzyMEeBJK",
        "outputId": "670759fb-81ae-4f98-b193-d72257ac0f00"
      },
      "execution_count": null,
      "outputs": [
        {
          "output_type": "stream",
          "name": "stdout",
          "text": [
            "[4 5 6]\n"
          ]
        }
      ]
    },
    {
      "cell_type": "markdown",
      "source": [
        "1.2.1 Extract the element at the 3rd row and 2nd column of arr2.\n"
      ],
      "metadata": {
        "id": "9Ob448xWeexL"
      }
    },
    {
      "cell_type": "code",
      "source": [
        "# Extracting the element from the 3rd row and 2nd column\n",
        "element = arr2[2, 1]\n",
        "print(\"Element at 3rd row, 2nd column:\", element)\n"
      ],
      "metadata": {
        "colab": {
          "base_uri": "https://localhost:8080/"
        },
        "id": "An40ZWcAefwG",
        "outputId": "d955a98a-e10a-42a9-9435-ee306ef768e8"
      },
      "execution_count": null,
      "outputs": [
        {
          "output_type": "stream",
          "name": "stdout",
          "text": [
            "Element at 3rd row, 2nd column: 8\n"
          ]
        }
      ]
    },
    {
      "cell_type": "markdown",
      "source": [
        "1.3.1 Extract all elements from the 3D array arr3 at the first index (0th layer)\n"
      ],
      "metadata": {
        "id": "BPv6ELaHepNc"
      }
    },
    {
      "cell_type": "code",
      "source": [
        "# Extracting the element from the 3rd row and 2nd column\n",
        "element = arr2[2, 1]\n",
        "print(\"Element at 3rd row, 2nd column:\", element)\n"
      ],
      "metadata": {
        "colab": {
          "base_uri": "https://localhost:8080/"
        },
        "id": "GyOrRSZSer4H",
        "outputId": "3daa2221-0871-4e29-912a-29cf671ed53c"
      },
      "execution_count": null,
      "outputs": [
        {
          "output_type": "stream",
          "name": "stdout",
          "text": [
            "Element at 3rd row, 2nd column: 8\n"
          ]
        }
      ]
    },
    {
      "cell_type": "markdown",
      "source": [
        "## Task 3: Array Reshaping\n"
      ],
      "metadata": {
        "id": "eOe_ff6jeuWa"
      }
    },
    {
      "cell_type": "markdown",
      "source": [
        "1.1.1 Reshape the 1D array from Task 1 into a 2x5 2D array.\n"
      ],
      "metadata": {
        "id": "q7DHtklrew48"
      }
    },
    {
      "cell_type": "code",
      "source": [
        "# Reshaping the 1D array into a 2x5 2D array\n",
        "reshaped_arr1 = arr1.reshape(2, 5)\n",
        "print(\"Reshaped array (2x5):\")\n",
        "print(reshaped_arr1)\n"
      ],
      "metadata": {
        "colab": {
          "base_uri": "https://localhost:8080/"
        },
        "id": "0vZWwNcveyvE",
        "outputId": "81657e76-6b67-4f09-9796-2f9f99bae1a0"
      },
      "execution_count": null,
      "outputs": [
        {
          "output_type": "stream",
          "name": "stdout",
          "text": [
            "Reshaped array (2x5):\n",
            "[[0 1 2 3 4]\n",
            " [5 6 7 8 9]]\n"
          ]
        }
      ]
    },
    {
      "cell_type": "markdown",
      "source": [
        "# Task 4: Mathematical Operations on Arrays\n"
      ],
      "metadata": {
        "id": "F9qJuZH1e5px"
      }
    },
    {
      "cell_type": "markdown",
      "source": [
        "1.2.1 Add 10 to each element of arr1.\n"
      ],
      "metadata": {
        "id": "dcA6jZFXe6W5"
      }
    },
    {
      "cell_type": "code",
      "source": [
        "# Adding 10 to each element in the 1D array\n",
        "arr1_plus_10 = arr1 + 10\n",
        "print(\"arr1 with 10 added to each element:\", arr1_plus_10)\n"
      ],
      "metadata": {
        "colab": {
          "base_uri": "https://localhost:8080/"
        },
        "id": "9R29-A1be_C4",
        "outputId": "ad76ba8e-f370-452d-f0c5-7f467ef26bb7"
      },
      "execution_count": null,
      "outputs": [
        {
          "output_type": "stream",
          "name": "stdout",
          "text": [
            "arr1 with 10 added to each element: [10 11 12 13 14 15 16 17 18 19]\n"
          ]
        }
      ]
    },
    {
      "cell_type": "markdown",
      "source": [
        "1.3.1 Multiply each element of arr2 by 2.\n"
      ],
      "metadata": {
        "id": "je01251XfJ9H"
      }
    },
    {
      "cell_type": "code",
      "source": [
        "# Multiplying each element of arr2 by 2\n",
        "arr2_times_2 = arr2 * 2\n",
        "print(\"arr2 with each element multiplied by 2:\")\n",
        "print(arr2_times_2)\n"
      ],
      "metadata": {
        "colab": {
          "base_uri": "https://localhost:8080/"
        },
        "id": "ywPHGZbbfYWm",
        "outputId": "af3e161d-233a-4602-ac27-48f69d13d878"
      },
      "execution_count": null,
      "outputs": [
        {
          "output_type": "stream",
          "name": "stdout",
          "text": [
            "arr2 with each element multiplied by 2:\n",
            "[[ 2  4  6]\n",
            " [ 8 10 12]\n",
            " [14 16 18]]\n"
          ]
        }
      ]
    },
    {
      "cell_type": "markdown",
      "source": [
        "Lab Task: Data Visualization with Matplotlib\n"
      ],
      "metadata": {
        "id": "75KMzMIuf20N"
      }
    },
    {
      "cell_type": "markdown",
      "source": [
        "## Task 1: Basic Line Plot\n"
      ],
      "metadata": {
        "id": "T4Ul7zqJf5US"
      }
    },
    {
      "cell_type": "markdown",
      "source": [
        "1.1.1 Create a basic line plot for the following data points\n"
      ],
      "metadata": {
        "id": "W088zV1Vf7du"
      }
    },
    {
      "cell_type": "code",
      "source": [
        "import matplotlib.pyplot as plt  # Importing the Matplotlib library\n",
        "\n",
        "# Data points\n",
        "x = [1, 2, 3, 4, 5]\n",
        "y = [2, 4, 6, 8, 10]\n",
        "\n",
        "# Creating a line plot\n",
        "plt.plot(x, y)\n",
        "\n",
        "# Adding labels and title\n",
        "plt.xlabel('X Axis')\n",
        "plt.ylabel('Y Axis')\n",
        "plt.title('Basic Line Plot')\n",
        "\n",
        "# Adding grid lines\n",
        "plt.grid(True)\n",
        "\n",
        "# Displaying the plot\n",
        "plt.show()\n"
      ],
      "metadata": {
        "colab": {
          "base_uri": "https://localhost:8080/",
          "height": 472
        },
        "id": "SAy4kuzDf8VO",
        "outputId": "0389b8c1-c165-4f4f-949d-de8e524cc89b"
      },
      "execution_count": null,
      "outputs": [
        {
          "output_type": "display_data",
          "data": {
            "text/plain": [
              "<Figure size 640x480 with 1 Axes>"
            ],
            "image/png": "[encoded data removed]"
          },
          "metadata": {}
        }
      ]
    },
    {
      "cell_type": "markdown",
      "source": [],
      "metadata": {
        "id": "i2qRMQwUgJxp"
      }
    },
    {
      "cell_type": "markdown",
      "source": [
        "Task 2: Scatter Plot\n"
      ],
      "metadata": {
        "id": "0YtLpshrgJ0j"
      }
    },
    {
      "cell_type": "markdown",
      "source": [
        "1.2.1 Create a scatter plot using the following data points:\n"
      ],
      "metadata": {
        "id": "jePbCMntgK6e"
      }
    },
    {
      "cell_type": "code",
      "source": [
        "# Data points\n",
        "x = [5, 7, 8, 7, 2, 17, 2, 9, 4, 11]\n",
        "y = [99, 86, 87, 88, 100, 86, 103, 87, 94, 78]\n",
        "\n",
        "# Creating a scatter plot with customized size and color for markers\n",
        "plt.scatter(x, y, color='blue', s=100)  # 's' sets marker size\n",
        "\n",
        "# Adding labels and title\n",
        "plt.xlabel('X Axis')\n",
        "plt.ylabel('Y Axis')\n",
        "plt.title('Scatter Plot')\n",
        "\n",
        "# Displaying the plot\n",
        "plt.show()\n"
      ],
      "metadata": {
        "colab": {
          "base_uri": "https://localhost:8080/",
          "height": 472
        },
        "id": "pDqptn-OgM1P",
        "outputId": "fe846441-ebb9-46ac-8bbb-4946b20b46e8"
      },
      "execution_count": null,
      "outputs": [
        {
          "output_type": "display_data",
          "data": {
            "text/plain": [
              "<Figure size 640x480 with 1 Axes>"
            ],
            "image/png": "[encoded data removed]"
          },
          "metadata": {}
        }
      ]
    },
    {
      "cell_type": "markdown",
      "source": [
        "Task 3: Bar Plot\n"
      ],
      "metadata": {
        "id": "joR4rUKOnA6w"
      }
    },
    {
      "cell_type": "markdown",
      "source": [
        "1.3.1 Create a bar plot with the following categories and values:\n"
      ],
      "metadata": {
        "id": "0u4oCdPZnCgT"
      }
    },
    {
      "cell_type": "code",
      "source": [
        "# Categories and values\n",
        "categories = ['A', 'B', 'C', 'D', 'E']\n",
        "values = [5, 7, 3, 8, 6]\n",
        "\n",
        "# Creating a bar plot with different colors for each bar\n",
        "colors = ['red', 'green', 'blue', 'purple', 'orange']\n",
        "plt.bar(categories, values, color=colors)\n",
        "\n",
        "# Adding labels and title\n",
        "plt.xlabel('Categories')\n",
        "plt.ylabel('Values')\n",
        "plt.title('Bar Plot')\n",
        "\n",
        "# Displaying the plot\n",
        "plt.show()\n"
      ],
      "metadata": {
        "id": "jgJ9SzdNnJgR",
        "outputId": "274d3b71-1f06-446f-c405-382bf6aebcd3",
        "colab": {
          "base_uri": "https://localhost:8080/",
          "height": 472
        }
      },
      "execution_count": null,
      "outputs": [
        {
          "output_type": "display_data",
          "data": {
            "text/plain": [
              "<Figure size 640x480 with 1 Axes>"
            ],
            "image/png": "[encoded data removed]"
          },
          "metadata": {}
        }
      ]
    },
    {
      "cell_type": "markdown",
      "source": [
        "Task 4: Histogram\n"
      ],
      "metadata": {
        "id": "E5svLtMgq2an"
      }
    },
    {
      "cell_type": "markdown",
      "source": [
        "1.4.1 Generate a histogram for a dataset containing random numbers:\n"
      ],
      "metadata": {
        "id": "2Zl9-qopq6IH"
      }
    },
    {
      "cell_type": "code",
      "source": [
        "# Generating random numbers\n",
        "data = np.random.randn(1000)\n",
        "\n",
        "# Creating a histogram with 30 bins and custom color\n",
        "plt.hist(data, bins=30, color='skyblue')\n",
        "\n",
        "# Adding labels and title\n",
        "plt.xlabel('Value')\n",
        "plt.ylabel('Frequency')\n",
        "plt.title('Histogram')\n",
        "\n",
        "# Displaying the plot\n",
        "plt.show()\n"
      ],
      "metadata": {
        "colab": {
          "base_uri": "https://localhost:8080/",
          "height": 472
        },
        "id": "j0qqJwwYq7B0",
        "outputId": "497cc7c0-e374-46f8-e0f2-a824697f96a0"
      },
      "execution_count": null,
      "outputs": [
        {
          "output_type": "display_data",
          "data": {
            "text/plain": [
              "<Figure size 640x480 with 1 Axes>"
            ],
            "image/png": "[encoded data removed]"
          },
          "metadata": {}
        }
      ]
    },
    {
      "cell_type": "markdown",
      "source": [
        "1.4.1 Generate a histogram for a dataset containing random numbers:\n"
      ],
      "metadata": {
        "id": "0cVhtUZ6rI_r"
      }
    },
    {
      "cell_type": "code",
      "source": [
        "# Data for the pie chart\n",
        "labels = ['Python', 'Java', 'C++', 'JavaScript']\n",
        "sizes = [50, 25, 15, 10]\n",
        "\n",
        "# Exploding the largest section (Python)\n",
        "explode = (0.1, 0, 0, 0)  # '0.1' means 'Python' section is exploded\n",
        "\n",
        "# Creating the pie chart with percentage display\n",
        "plt.pie(sizes, labels=labels, explode=explode, autopct='%1.1f%%', colors=['gold', 'yellowgreen', 'lightcoral', 'lightskyblue'])\n",
        "\n",
        "# Adding a title\n",
        "plt.title('Pie Chart of Programming Languages')\n",
        "\n",
        "# Displaying the chart\n",
        "plt.show()\n"
      ],
      "metadata": {
        "colab": {
          "base_uri": "https://localhost:8080/",
          "height": 428
        },
        "id": "9QIoYg1GrVGY",
        "outputId": "22e15fbc-eebe-4de7-8c32-49d6bf7f7716"
      },
      "execution_count": null,
      "outputs": [
        {
          "output_type": "display_data",
          "data": {
            "text/plain": [
              "<Figure size 640x480 with 1 Axes>"
            ],
            "image/png": "[encoded data removed]"
          },
          "metadata": {}
        }
      ]
    }
  ]
}